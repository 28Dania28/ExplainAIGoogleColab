{
  "nbformat": 4,
  "nbformat_minor": 0,
  "metadata": {
    "colab": {
      "provenance": [],
      "gpuType": "T4",
      "authorship_tag": "ABX9TyNmwb23/bXevKHy3yHRtGNz",
      "include_colab_link": true
    },
    "kernelspec": {
      "name": "python3",
      "display_name": "Python 3"
    },
    "language_info": {
      "name": "python"
    },
    "accelerator": "GPU"
  },
  "cells": [
    {
      "cell_type": "markdown",
      "metadata": {
        "id": "view-in-github",
        "colab_type": "text"
      },
      "source": [
        "<a href=\"https://colab.research.google.com/github/28Dania28/ExplainAIGoogleColab/blob/main/ExplainAI.ipynb\" target=\"_parent\"><img src=\"https://colab.research.google.com/assets/colab-badge.svg\" alt=\"Open In Colab\"/></a>"
      ]
    },
    {
      "cell_type": "code",
      "source": [
        "!git clone https://github.com/28Dania28/ExplainAI.git"
      ],
      "metadata": {
        "colab": {
          "base_uri": "https://localhost:8080/"
        },
        "id": "zMSajDYVWjOg",
        "outputId": "2123bd12-24d9-4488-b979-f0c94150ebfe"
      },
      "execution_count": null,
      "outputs": [
        {
          "output_type": "stream",
          "name": "stdout",
          "text": [
            "Cloning into 'ExplainAI'...\n",
            "remote: Enumerating objects: 59, done.\u001b[K\n",
            "remote: Counting objects: 100% (59/59), done.\u001b[K\n",
            "remote: Compressing objects: 100% (45/45), done.\u001b[K\n",
            "remote: Total 59 (delta 22), reused 50 (delta 13), pack-reused 0 (from 0)\u001b[K\n",
            "Receiving objects: 100% (59/59), 33.11 KiB | 574.00 KiB/s, done.\n",
            "Resolving deltas: 100% (22/22), done.\n"
          ]
        }
      ]
    },
    {
      "cell_type": "code",
      "source": [
        "%cd ExplainAI/"
      ],
      "metadata": {
        "colab": {
          "base_uri": "https://localhost:8080/"
        },
        "id": "m_-JcgZ4U77K",
        "outputId": "88b67a1a-d226-45db-d56a-daed803fb66d"
      },
      "execution_count": null,
      "outputs": [
        {
          "output_type": "stream",
          "name": "stdout",
          "text": [
            "/content/ExplainAI\n"
          ]
        }
      ]
    },
    {
      "cell_type": "code",
      "source": [
        "!pip install -r requirements.txt"
      ],
      "metadata": {
        "colab": {
          "base_uri": "https://localhost:8080/"
        },
        "id": "d1xbaq1YVKaR",
        "outputId": "2182656a-34f4-48ca-c998-53cb1ea1005f"
      },
      "execution_count": null,
      "outputs": [
        {
          "output_type": "stream",
          "name": "stdout",
          "text": [
            "Collecting yt-dlp (from -r requirements.txt (line 2))\n",
            "  Downloading yt_dlp-2024.8.6-py3-none-any.whl.metadata (170 kB)\n",
            "\u001b[?25l     \u001b[90m━━━━━━━━━━━━━━━━━━━━━━━━━━━━━━━━━━━━━━━━\u001b[0m \u001b[32m0.0/170.1 kB\u001b[0m \u001b[31m?\u001b[0m eta \u001b[36m-:--:--\u001b[0m\r\u001b[2K     \u001b[90m━━━━━━━━━━━━━━━━━━━━━━━━━━━━━━━━━━━━━━━━\u001b[0m \u001b[32m170.1/170.1 kB\u001b[0m \u001b[31m5.8 MB/s\u001b[0m eta \u001b[36m0:00:00\u001b[0m\n",
            "\u001b[?25hCollecting pytube (from -r requirements.txt (line 3))\n",
            "  Downloading pytube-15.0.0-py3-none-any.whl.metadata (5.0 kB)\n",
            "Collecting youtube-transcript-api (from -r requirements.txt (line 6))\n",
            "  Downloading youtube_transcript_api-0.6.2-py3-none-any.whl.metadata (15 kB)\n",
            "Collecting openai-whisper (from -r requirements.txt (line 9))\n",
            "  Downloading openai-whisper-20231117.tar.gz (798 kB)\n",
            "\u001b[2K     \u001b[90m━━━━━━━━━━━━━━━━━━━━━━━━━━━━━━━━━━━━━━━━\u001b[0m \u001b[32m798.6/798.6 kB\u001b[0m \u001b[31m29.0 MB/s\u001b[0m eta \u001b[36m0:00:00\u001b[0m\n",
            "\u001b[?25h  Installing build dependencies ... \u001b[?25l\u001b[?25hdone\n",
            "  Getting requirements to build wheel ... \u001b[?25l\u001b[?25hdone\n",
            "  Preparing metadata (pyproject.toml) ... \u001b[?25l\u001b[?25hdone\n",
            "Requirement already satisfied: nltk in /usr/local/lib/python3.10/dist-packages (from -r requirements.txt (line 12)) (3.8.1)\n",
            "Requirement already satisfied: regex in /usr/local/lib/python3.10/dist-packages (from -r requirements.txt (line 13)) (2024.5.15)\n",
            "Requirement already satisfied: transformers~=4.44.2 in /usr/local/lib/python3.10/dist-packages (from -r requirements.txt (line 16)) (4.44.2)\n",
            "Requirement already satisfied: torch in /usr/local/lib/python3.10/dist-packages (from -r requirements.txt (line 17)) (2.4.0+cu121)\n",
            "Requirement already satisfied: requests in /usr/local/lib/python3.10/dist-packages (from -r requirements.txt (line 20)) (2.32.3)\n",
            "Requirement already satisfied: pandas in /usr/local/lib/python3.10/dist-packages (from -r requirements.txt (line 21)) (2.1.4)\n",
            "Collecting python-dotenv (from -r requirements.txt (line 24))\n",
            "  Downloading python_dotenv-1.0.1-py3-none-any.whl.metadata (23 kB)\n",
            "Collecting ffmpeg-python (from -r requirements.txt (line 27))\n",
            "  Downloading ffmpeg_python-0.2.0-py3-none-any.whl.metadata (1.7 kB)\n",
            "Collecting openai (from -r requirements.txt (line 29))\n",
            "  Downloading openai-1.43.1-py3-none-any.whl.metadata (22 kB)\n",
            "Collecting brotli (from yt-dlp->-r requirements.txt (line 2))\n",
            "  Downloading Brotli-1.1.0-cp310-cp310-manylinux_2_5_x86_64.manylinux1_x86_64.manylinux_2_12_x86_64.manylinux2010_x86_64.whl.metadata (5.5 kB)\n",
            "Requirement already satisfied: certifi in /usr/local/lib/python3.10/dist-packages (from yt-dlp->-r requirements.txt (line 2)) (2024.8.30)\n",
            "Collecting mutagen (from yt-dlp->-r requirements.txt (line 2))\n",
            "  Downloading mutagen-1.47.0-py3-none-any.whl.metadata (1.7 kB)\n",
            "Collecting pycryptodomex (from yt-dlp->-r requirements.txt (line 2))\n",
            "  Downloading pycryptodomex-3.20.0-cp35-abi3-manylinux_2_17_x86_64.manylinux2014_x86_64.whl.metadata (3.4 kB)\n",
            "Requirement already satisfied: urllib3<3,>=1.26.17 in /usr/local/lib/python3.10/dist-packages (from yt-dlp->-r requirements.txt (line 2)) (2.0.7)\n",
            "Collecting websockets>=12.0 (from yt-dlp->-r requirements.txt (line 2))\n",
            "  Downloading websockets-13.0.1-cp310-cp310-manylinux_2_5_x86_64.manylinux1_x86_64.manylinux_2_17_x86_64.manylinux2014_x86_64.whl.metadata (6.7 kB)\n",
            "Collecting triton<3,>=2.0.0 (from openai-whisper->-r requirements.txt (line 9))\n",
            "  Downloading triton-2.3.1-cp310-cp310-manylinux_2_17_x86_64.manylinux2014_x86_64.whl.metadata (1.4 kB)\n",
            "Requirement already satisfied: numba in /usr/local/lib/python3.10/dist-packages (from openai-whisper->-r requirements.txt (line 9)) (0.60.0)\n",
            "Requirement already satisfied: numpy in /usr/local/lib/python3.10/dist-packages (from openai-whisper->-r requirements.txt (line 9)) (1.26.4)\n",
            "Requirement already satisfied: tqdm in /usr/local/lib/python3.10/dist-packages (from openai-whisper->-r requirements.txt (line 9)) (4.66.5)\n",
            "Requirement already satisfied: more-itertools in /usr/local/lib/python3.10/dist-packages (from openai-whisper->-r requirements.txt (line 9)) (10.3.0)\n",
            "Collecting tiktoken (from openai-whisper->-r requirements.txt (line 9))\n",
            "  Downloading tiktoken-0.7.0-cp310-cp310-manylinux_2_17_x86_64.manylinux2014_x86_64.whl.metadata (6.6 kB)\n",
            "Requirement already satisfied: click in /usr/local/lib/python3.10/dist-packages (from nltk->-r requirements.txt (line 12)) (8.1.7)\n",
            "Requirement already satisfied: joblib in /usr/local/lib/python3.10/dist-packages (from nltk->-r requirements.txt (line 12)) (1.4.2)\n",
            "Requirement already satisfied: filelock in /usr/local/lib/python3.10/dist-packages (from transformers~=4.44.2->-r requirements.txt (line 16)) (3.15.4)\n",
            "Requirement already satisfied: huggingface-hub<1.0,>=0.23.2 in /usr/local/lib/python3.10/dist-packages (from transformers~=4.44.2->-r requirements.txt (line 16)) (0.24.6)\n",
            "Requirement already satisfied: packaging>=20.0 in /usr/local/lib/python3.10/dist-packages (from transformers~=4.44.2->-r requirements.txt (line 16)) (24.1)\n",
            "Requirement already satisfied: pyyaml>=5.1 in /usr/local/lib/python3.10/dist-packages (from transformers~=4.44.2->-r requirements.txt (line 16)) (6.0.2)\n",
            "Requirement already satisfied: safetensors>=0.4.1 in /usr/local/lib/python3.10/dist-packages (from transformers~=4.44.2->-r requirements.txt (line 16)) (0.4.4)\n",
            "Requirement already satisfied: tokenizers<0.20,>=0.19 in /usr/local/lib/python3.10/dist-packages (from transformers~=4.44.2->-r requirements.txt (line 16)) (0.19.1)\n",
            "Requirement already satisfied: typing-extensions>=4.8.0 in /usr/local/lib/python3.10/dist-packages (from torch->-r requirements.txt (line 17)) (4.12.2)\n",
            "Requirement already satisfied: sympy in /usr/local/lib/python3.10/dist-packages (from torch->-r requirements.txt (line 17)) (1.13.2)\n",
            "Requirement already satisfied: networkx in /usr/local/lib/python3.10/dist-packages (from torch->-r requirements.txt (line 17)) (3.3)\n",
            "Requirement already satisfied: jinja2 in /usr/local/lib/python3.10/dist-packages (from torch->-r requirements.txt (line 17)) (3.1.4)\n",
            "Requirement already satisfied: fsspec in /usr/local/lib/python3.10/dist-packages (from torch->-r requirements.txt (line 17)) (2024.6.1)\n",
            "Requirement already satisfied: charset-normalizer<4,>=2 in /usr/local/lib/python3.10/dist-packages (from requests->-r requirements.txt (line 20)) (3.3.2)\n",
            "Requirement already satisfied: idna<4,>=2.5 in /usr/local/lib/python3.10/dist-packages (from requests->-r requirements.txt (line 20)) (3.8)\n",
            "Requirement already satisfied: python-dateutil>=2.8.2 in /usr/local/lib/python3.10/dist-packages (from pandas->-r requirements.txt (line 21)) (2.8.2)\n",
            "Requirement already satisfied: pytz>=2020.1 in /usr/local/lib/python3.10/dist-packages (from pandas->-r requirements.txt (line 21)) (2024.1)\n",
            "Requirement already satisfied: tzdata>=2022.1 in /usr/local/lib/python3.10/dist-packages (from pandas->-r requirements.txt (line 21)) (2024.1)\n",
            "Requirement already satisfied: future in /usr/local/lib/python3.10/dist-packages (from ffmpeg-python->-r requirements.txt (line 27)) (1.0.0)\n",
            "Requirement already satisfied: anyio<5,>=3.5.0 in /usr/local/lib/python3.10/dist-packages (from openai->-r requirements.txt (line 29)) (3.7.1)\n",
            "Requirement already satisfied: distro<2,>=1.7.0 in /usr/lib/python3/dist-packages (from openai->-r requirements.txt (line 29)) (1.7.0)\n",
            "Collecting httpx<1,>=0.23.0 (from openai->-r requirements.txt (line 29))\n",
            "  Downloading httpx-0.27.2-py3-none-any.whl.metadata (7.1 kB)\n",
            "Collecting jiter<1,>=0.4.0 (from openai->-r requirements.txt (line 29))\n",
            "  Downloading jiter-0.5.0-cp310-cp310-manylinux_2_17_x86_64.manylinux2014_x86_64.whl.metadata (3.6 kB)\n",
            "Requirement already satisfied: pydantic<3,>=1.9.0 in /usr/local/lib/python3.10/dist-packages (from openai->-r requirements.txt (line 29)) (2.8.2)\n",
            "Requirement already satisfied: sniffio in /usr/local/lib/python3.10/dist-packages (from openai->-r requirements.txt (line 29)) (1.3.1)\n",
            "Requirement already satisfied: exceptiongroup in /usr/local/lib/python3.10/dist-packages (from anyio<5,>=3.5.0->openai->-r requirements.txt (line 29)) (1.2.2)\n",
            "Collecting httpcore==1.* (from httpx<1,>=0.23.0->openai->-r requirements.txt (line 29))\n",
            "  Downloading httpcore-1.0.5-py3-none-any.whl.metadata (20 kB)\n",
            "Collecting h11<0.15,>=0.13 (from httpcore==1.*->httpx<1,>=0.23.0->openai->-r requirements.txt (line 29))\n",
            "  Downloading h11-0.14.0-py3-none-any.whl.metadata (8.2 kB)\n",
            "Requirement already satisfied: annotated-types>=0.4.0 in /usr/local/lib/python3.10/dist-packages (from pydantic<3,>=1.9.0->openai->-r requirements.txt (line 29)) (0.7.0)\n",
            "Requirement already satisfied: pydantic-core==2.20.1 in /usr/local/lib/python3.10/dist-packages (from pydantic<3,>=1.9.0->openai->-r requirements.txt (line 29)) (2.20.1)\n",
            "Requirement already satisfied: six>=1.5 in /usr/local/lib/python3.10/dist-packages (from python-dateutil>=2.8.2->pandas->-r requirements.txt (line 21)) (1.16.0)\n",
            "Requirement already satisfied: MarkupSafe>=2.0 in /usr/local/lib/python3.10/dist-packages (from jinja2->torch->-r requirements.txt (line 17)) (2.1.5)\n",
            "Requirement already satisfied: llvmlite<0.44,>=0.43.0dev0 in /usr/local/lib/python3.10/dist-packages (from numba->openai-whisper->-r requirements.txt (line 9)) (0.43.0)\n",
            "Requirement already satisfied: mpmath<1.4,>=1.1.0 in /usr/local/lib/python3.10/dist-packages (from sympy->torch->-r requirements.txt (line 17)) (1.3.0)\n",
            "Downloading yt_dlp-2024.8.6-py3-none-any.whl (3.1 MB)\n",
            "\u001b[2K   \u001b[90m━━━━━━━━━━━━━━━━━━━━━━━━━━━━━━━━━━━━━━━━\u001b[0m \u001b[32m3.1/3.1 MB\u001b[0m \u001b[31m84.7 MB/s\u001b[0m eta \u001b[36m0:00:00\u001b[0m\n",
            "\u001b[?25hDownloading pytube-15.0.0-py3-none-any.whl (57 kB)\n",
            "\u001b[2K   \u001b[90m━━━━━━━━━━━━━━━━━━━━━━━━━━━━━━━━━━━━━━━━\u001b[0m \u001b[32m57.6/57.6 kB\u001b[0m \u001b[31m5.1 MB/s\u001b[0m eta \u001b[36m0:00:00\u001b[0m\n",
            "\u001b[?25hDownloading youtube_transcript_api-0.6.2-py3-none-any.whl (24 kB)\n",
            "Downloading python_dotenv-1.0.1-py3-none-any.whl (19 kB)\n",
            "Downloading ffmpeg_python-0.2.0-py3-none-any.whl (25 kB)\n",
            "Downloading openai-1.43.1-py3-none-any.whl (365 kB)\n",
            "\u001b[2K   \u001b[90m━━━━━━━━━━━━━━━━━━━━━━━━━━━━━━━━━━━━━━━━\u001b[0m \u001b[32m365.7/365.7 kB\u001b[0m \u001b[31m33.3 MB/s\u001b[0m eta \u001b[36m0:00:00\u001b[0m\n",
            "\u001b[?25hDownloading httpx-0.27.2-py3-none-any.whl (76 kB)\n",
            "\u001b[2K   \u001b[90m━━━━━━━━━━━━━━━━━━━━━━━━━━━━━━━━━━━━━━━━\u001b[0m \u001b[32m76.4/76.4 kB\u001b[0m \u001b[31m8.2 MB/s\u001b[0m eta \u001b[36m0:00:00\u001b[0m\n",
            "\u001b[?25hDownloading httpcore-1.0.5-py3-none-any.whl (77 kB)\n",
            "\u001b[2K   \u001b[90m━━━━━━━━━━━━━━━━━━━━━━━━━━━━━━━━━━━━━━━━\u001b[0m \u001b[32m77.9/77.9 kB\u001b[0m \u001b[31m8.6 MB/s\u001b[0m eta \u001b[36m0:00:00\u001b[0m\n",
            "\u001b[?25hDownloading jiter-0.5.0-cp310-cp310-manylinux_2_17_x86_64.manylinux2014_x86_64.whl (318 kB)\n",
            "\u001b[2K   \u001b[90m━━━━━━━━━━━━━━━━━━━━━━━━━━━━━━━━━━━━━━━━\u001b[0m \u001b[32m318.9/318.9 kB\u001b[0m \u001b[31m28.8 MB/s\u001b[0m eta \u001b[36m0:00:00\u001b[0m\n",
            "\u001b[?25hDownloading triton-2.3.1-cp310-cp310-manylinux_2_17_x86_64.manylinux2014_x86_64.whl (168.1 MB)\n",
            "\u001b[2K   \u001b[90m━━━━━━━━━━━━━━━━━━━━━━━━━━━━━━━━━━━━━━━━\u001b[0m \u001b[32m168.1/168.1 MB\u001b[0m \u001b[31m6.0 MB/s\u001b[0m eta \u001b[36m0:00:00\u001b[0m\n",
            "\u001b[?25hDownloading websockets-13.0.1-cp310-cp310-manylinux_2_5_x86_64.manylinux1_x86_64.manylinux_2_17_x86_64.manylinux2014_x86_64.whl (157 kB)\n",
            "\u001b[2K   \u001b[90m━━━━━━━━━━━━━━━━━━━━━━━━━━━━━━━━━━━━━━━━\u001b[0m \u001b[32m157.3/157.3 kB\u001b[0m \u001b[31m12.1 MB/s\u001b[0m eta \u001b[36m0:00:00\u001b[0m\n",
            "\u001b[?25hDownloading Brotli-1.1.0-cp310-cp310-manylinux_2_5_x86_64.manylinux1_x86_64.manylinux_2_12_x86_64.manylinux2010_x86_64.whl (3.0 MB)\n",
            "\u001b[2K   \u001b[90m━━━━━━━━━━━━━━━━━━━━━━━━━━━━━━━━━━━━━━━━\u001b[0m \u001b[32m3.0/3.0 MB\u001b[0m \u001b[31m70.9 MB/s\u001b[0m eta \u001b[36m0:00:00\u001b[0m\n",
            "\u001b[?25hDownloading mutagen-1.47.0-py3-none-any.whl (194 kB)\n",
            "\u001b[2K   \u001b[90m━━━━━━━━━━━━━━━━━━━━━━━━━━━━━━━━━━━━━━━━\u001b[0m \u001b[32m194.4/194.4 kB\u001b[0m \u001b[31m13.5 MB/s\u001b[0m eta \u001b[36m0:00:00\u001b[0m\n",
            "\u001b[?25hDownloading pycryptodomex-3.20.0-cp35-abi3-manylinux_2_17_x86_64.manylinux2014_x86_64.whl (2.1 MB)\n",
            "\u001b[2K   \u001b[90m━━━━━━━━━━━━━━━━━━━━━━━━━━━━━━━━━━━━━━━━\u001b[0m \u001b[32m2.1/2.1 MB\u001b[0m \u001b[31m65.0 MB/s\u001b[0m eta \u001b[36m0:00:00\u001b[0m\n",
            "\u001b[?25hDownloading tiktoken-0.7.0-cp310-cp310-manylinux_2_17_x86_64.manylinux2014_x86_64.whl (1.1 MB)\n",
            "\u001b[2K   \u001b[90m━━━━━━━━━━━━━━━━━━━━━━━━━━━━━━━━━━━━━━━━\u001b[0m \u001b[32m1.1/1.1 MB\u001b[0m \u001b[31m48.6 MB/s\u001b[0m eta \u001b[36m0:00:00\u001b[0m\n",
            "\u001b[?25hDownloading h11-0.14.0-py3-none-any.whl (58 kB)\n",
            "\u001b[2K   \u001b[90m━━━━━━━━━━━━━━━━━━━━━━━━━━━━━━━━━━━━━━━━\u001b[0m \u001b[32m58.3/58.3 kB\u001b[0m \u001b[31m5.2 MB/s\u001b[0m eta \u001b[36m0:00:00\u001b[0m\n",
            "\u001b[?25hBuilding wheels for collected packages: openai-whisper\n",
            "  Building wheel for openai-whisper (pyproject.toml) ... \u001b[?25l\u001b[?25hdone\n",
            "  Created wheel for openai-whisper: filename=openai_whisper-20231117-py3-none-any.whl size=801360 sha256=7786cea283cb4a3601a97241e813afca489dd976151a663b04922427b6847436\n",
            "  Stored in directory: /root/.cache/pip/wheels/d0/85/e1/9361b4cbea7dd4b7f6702fa4c3afc94877952eeb2b62f45f56\n",
            "Successfully built openai-whisper\n",
            "Installing collected packages: brotli, websockets, triton, pytube, python-dotenv, pycryptodomex, mutagen, jiter, h11, ffmpeg-python, yt-dlp, youtube-transcript-api, tiktoken, httpcore, openai-whisper, httpx, openai\n",
            "Successfully installed brotli-1.1.0 ffmpeg-python-0.2.0 h11-0.14.0 httpcore-1.0.5 httpx-0.27.2 jiter-0.5.0 mutagen-1.47.0 openai-1.43.1 openai-whisper-20231117 pycryptodomex-3.20.0 python-dotenv-1.0.1 pytube-15.0.0 tiktoken-0.7.0 triton-2.3.1 websockets-13.0.1 youtube-transcript-api-0.6.2 yt-dlp-2024.8.6\n"
          ]
        }
      ]
    },
    {
      "cell_type": "code",
      "source": [
        "!python main.py"
      ],
      "metadata": {
        "colab": {
          "base_uri": "https://localhost:8080/"
        },
        "id": "KumL-NRmVi2s",
        "outputId": "6cefe77c-4c7e-40b1-97da-2aa5df0abd9e"
      },
      "execution_count": null,
      "outputs": [
        {
          "output_type": "stream",
          "name": "stdout",
          "text": [
            "2024-09-06 08:52:42.323515: E external/local_xla/xla/stream_executor/cuda/cuda_fft.cc:485] Unable to register cuFFT factory: Attempting to register factory for plugin cuFFT when one has already been registered\n",
            "2024-09-06 08:52:42.591363: E external/local_xla/xla/stream_executor/cuda/cuda_dnn.cc:8454] Unable to register cuDNN factory: Attempting to register factory for plugin cuDNN when one has already been registered\n",
            "2024-09-06 08:52:42.675728: E external/local_xla/xla/stream_executor/cuda/cuda_blas.cc:1452] Unable to register cuBLAS factory: Attempting to register factory for plugin cuBLAS when one has already been registered\n",
            "2024-09-06 08:52:43.117668: I tensorflow/core/platform/cpu_feature_guard.cc:210] This TensorFlow binary is optimized to use available CPU instructions in performance-critical operations.\n",
            "To enable the following instructions: AVX2 AVX512F FMA, in other operations, rebuild TensorFlow with the appropriate compiler flags.\n",
            "2024-09-06 08:52:45.689091: W tensorflow/compiler/tf2tensorrt/utils/py_utils.cc:38] TF-TRT Warning: Could not find TensorRT\n",
            "Transcript Context : welcome to business today I'm Michelle flurry in New York where Traders may want to put on their hard hats that's because us markets picked up where Japan left off and the global stock market intensifies as the sell-off continues there are two things that do seem to be driving it Friday's disappointment about how few jobs the US economy added in January and Japan's decision to increase interest rates last week well as you can see the US markets have opened sharply lower you can see the Dow Jones Industrial aage average uh losses there are uh well it's down over a th000 points at the open the S&P 500 crucially is down 4% and the NASDAQ the tech heavy index where we've seen some of the biggest losses that is down over 6% at the opening bell and this is what happened in Japan and also the picture across Europe as I was saying a lot of this negative sentiment seems to be because only 114,000 jobs were added to the US econ in July now that was much lower than expected and that raised fears that the world's biggest economy is slowing and you're seeing that Rippling across those markets which we were just showing you around the world now on Wednesday Japan's Central Bank increased the cost of borrowing with its main interest rate going to around a quarter perc which is the highest in 15 years as a result September 18th is one day many people are looking to that's when the US Federal Reserve will make its latest interest rate decision and investors are wondering if they will cut the cost of borrowing enough to stimulate the economy Katie Kaminsky is Chief research strategist at the investment firm Alpha simplex and joins us from Boston uh Katie what is going on with the markets at this point can you say this is a rational fear or is it irrational this is a very good question but it definitely looks very much like the market is experiencing a recession trade riskof Behavior and we have to remember that the market has been priced for a Goldilocks type scenario a situation where tighter rates and Tighter policy doesn't have strong Economic Consequences as a result we're starting to see people come to terms with or at least have a trigger point that maybe that's not the case and as a result a lot of people are trying to take profit on High valuations I mean let's talk about for example nvidia's share price it's down what 10% that was right before the opening bell rang what does that tell us I mean it was one of the hottest stocks did Things become overpriced and now this is just people sort of retreating or do you think it is a sign that there is really more danger in the economy than people had previously anticipated well I think we have to point out that the data has been coming in weaker for about two months and the narrative in the markets has been shifting initially we were thinking about inflation as a concern that has tempered now the narrative is moving towards the potential for demand destruction and economic weakness if you look at some of the data like housing isn't doing as well manufacturing data has been weak for some time here we're also seeing savings rates down Consumer Debt Rising so the question is really is the market ready for a correction because there's economic weakness that will be fueled by more economic uncertainty or political uncertainty and as well as high valuations will cause people to to want to get out of those positions now I mean Katy a lot of people are looking towards America's Central Bank and what they will do next to ease but if you look around the world you've got the ECB that has cut already easing there you've got Japan that just hiked how is that sort of feeding into what we're seeing is this just a US story or or that that markets around the world are reacting to or are there other factors at play well I think it's a little bit of both but what's most important for the us right now is the fact that this type of data and this type of Market reaction suggests that there's a lot more pressure on the FED than there was a week ago and as a result with September 18th so far away I think there's going to be a lot of concern about how the FED can react or could they react faster I know that pricing on rate hikes went up significantly in the last two days so you're seeing that convexity that sort of nonlinear moves that people are really realizing that this is going to have to be dealt with KY Kaminsky thank you so much for joining us on this well fast moving day and now we can turn to Steven Blitz he is chief us Economist at the economic consultancy TS Lombard uh thanks for joining us on the program look if this was sparked by a growth scare uh particularly we had that weak data last night on manufacturing the ism report and then the jobs report on Friday can you give us a sense really how bad things are right now with the US economy well I it's not a question of things being bad right now I think they're definitely soft right but and if the fed's going to wait for things to be bad to act then it's too late right uh because there is a lag in the time between the FED acts and when the economy response so the issue is and the concern here is not so much that oh we're in a recession today because we are not well we me the US economy but what we are in is a position where you're getting all these warning flags and signs saying that if the FED doesn't start to cut and cut a lot soon we will be in recession by the end of the year now Austin gby is president of the Federal Reserve Bank in Chicago he was saying um a short while ago that we shouldn't read much into one or two pieces of data and and S reiterated the line that we've heard from uh Fed chair Jerome pal that the FED is data dependent what do you agree with that um I don't all right I mean I do in the sense I understand what he's saying but that is the Trap that the FED all central banks really always fall into well we need one more data point we need a little bit more we don't want to react to one data point all well and good but they we're starting from a point where the shortterm money is at five and a half% and inflation is essentially a 3% that's a two and a half 250 basis point spread money is tight and the longer they stay there the greater the odds that you're going to be in a recession at some point the weaker data the weaker earnings data that we've seen Beyond you know the the top seven there you know it's not it's all telling the same story not a recession but economy is weakening and if they're gonna wait to see actual collapsing data and then say oh here we are we should start cutting it's too late so it sounds like you think the FED is behind the curve what happens next does that mean a bigger rate cut in September or what the markets seem to be asking for right now could we see an emergency rate cut on the table uh at this point I don't think you'll see an emergency rate cut unless this sell off in the equity Market which at this point I think is is a little bit of this is some of the ere exuberance or the you know certain stocks sort of coming back to the mean so unless there's some emergency I don't see a mid cut a mid uh meeting cut uh do they cut again do they cut 50 basis point in September if we see another sub 100,000 job number in uh for August and we see weak retail sales as well in July and August the answer is yes and really by any model including John Taylor the aonomus Taylor rule is saying that the funds rate should be at 4% so they've got a long way to go and if they want to take their time cutting that's their business but they'll the the cost of that will be a much more rapid acceleration in cutting later on when we're already in recession so this is about avoiding recession which was always their promise their promise was we could get to 2% without inflation without a recession and if if the economy starts to slow and we have a lower inflation rate we will We being the FED will not let the funds rate push us into recession that's where we are so job not yet done Steven Blitz thank you very much thank you \n",
            "config.json: 100% 571/571 [00:00<00:00, 3.72MB/s]\n",
            "model.safetensors: 100% 496M/496M [00:02<00:00, 210MB/s]\n",
            "tokenizer_config.json: 100% 79.0/79.0 [00:00<00:00, 530kB/s]\n",
            "vocab.json: 100% 899k/899k [00:00<00:00, 4.61MB/s]\n",
            "merges.txt: 100% 456k/456k [00:00<00:00, 3.45MB/s]\n",
            "special_tokens_map.json: 100% 772/772 [00:00<00:00, 4.59MB/s]\n",
            "/usr/local/lib/python3.10/dist-packages/transformers/tokenization_utils_base.py:1601: FutureWarning: `clean_up_tokenization_spaces` was not set. It will be set to `True` by default. This behavior will be depracted in transformers v4.45, and will be then set to `False` by default. For more details check this issue: https://github.com/huggingface/transformers/issues/31884\n",
            "  warnings.warn(\n",
            "Using Hugging Face Model: deepset/roberta-base-squad2\n",
            "ExplainAI Question Answerer is ready. Type 'exit' to quit.\n",
            "\n",
            "You : What is the main topic discussed in the transcript?\n",
            "ExplainAI: inflation\n",
            "You : What were the two main factors driving the market sentiment according to the transcript?\n",
            "ExplainAI: Japan's decision to increase interest rates\n",
            "You : Who is Katie Kaminsky, and what is her role?\n",
            "ExplainAI: Chief research strategist\n",
            "You : What specific job creation data from July is mentioned, and how did it impact the market?\n",
            "ExplainAI: 114,000\n",
            "You : What interest rate change did Japan's Central Bank implement, and why is it significant?\n",
            "ExplainAI: around a quarter perc\n",
            "You : How did Nvidia’s share price change, and what implications does this have according to the discussion?\n",
            "ExplainAI: down what 10%\n",
            "You : What are the potential reasons for the market's negative reaction described in the transcript?\n",
            "ExplainAI: demand destruction and economic weakness\n",
            "You : How does the transcript suggest the Federal Reserve's actions could impact the market?\n",
            "ExplainAI: there's a lot more pressure\n",
            "You : What are the broader economic concerns raised in the transcript beyond the immediate market reaction?\n",
            "ExplainAI: the world's biggest economy is slowing\n",
            "You : Can you provide a summary of the key points discussed about the current market conditions?\n",
            "ExplainAI: how bad things are right now with the US economy\n",
            "You : How does the transcript suggest global economic factors are influencing the US market?\n",
            "You seem to be using the pipelines sequentially on GPU. In order to maximize efficiency please use a dataset\n",
            "ExplainAI: the global stock market intensifies\n",
            "You : What are the key takeaways regarding future economic expectations as mentioned in the transcript?\n",
            "ExplainAI: the world's biggest economy is slowing\n",
            "You : How did the recent economic data influence market predictions according to the discussion?\n",
            "ExplainAI: a lot more pressure on the FED than there was a week ago\n",
            "You : What is the significance of the September 18th date mentioned in the context of the Federal Reserve?\n",
            "ExplainAI: the US Federal Reserve will make its latest interest rate decision\n",
            "You : What contrasting economic actions are highlighted between the US and other global markets?\n",
            "ExplainAI: the world's biggest economy is slowing\n"
          ]
        }
      ]
    },
    {
      "cell_type": "code",
      "source": [],
      "metadata": {
        "id": "nr0rzQ0aidi_"
      },
      "execution_count": null,
      "outputs": []
    }
  ]
}